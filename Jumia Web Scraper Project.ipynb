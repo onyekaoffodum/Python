{
 "cells": [
  {
   "cell_type": "code",
   "execution_count": 1,
   "id": "4d1b4b13",
   "metadata": {},
   "outputs": [],
   "source": [
    "# import libraries \n",
    "\n",
    "from bs4 import BeautifulSoup\n",
    "import requests\n",
    "import time\n",
    "import datetime\n",
    "import smtplib"
   ]
  },
  {
   "cell_type": "code",
   "execution_count": 2,
   "id": "92970172",
   "metadata": {},
   "outputs": [],
   "source": [
    "# Connect to Website\n",
    "\n",
    "URL = 'https://www.jumia.com.ng/catalog/?q=handbags+for+ladies'\n",
    "\n",
    "headers = {\"User-Agent\": \"Mozilla/5.0 (Windows NT 10.0; Win64; x64) AppleWebKit/537.36 (KHTML, like Gecko) Chrome/121.0.0.0 Safari/537.36 Edg/121.0.0.0\", \"Accept-Encoding\":\"gzip, deflate, br\", \"Accept\":\"text/html,application/xhtml+xml,application/xml;q=0.9,image/avif,image/webp,image/apng,*/*;q=0.8,application/signed-exchange;v=b3;q=0.7\", \"DNT\":\"1\",\"Connection\":\"close\", \"Upgrade-Insecure-Requests\":\"1\"}\n"
   ]
  },
  {
   "cell_type": "code",
   "execution_count": 3,
   "id": "c1e01342",
   "metadata": {},
   "outputs": [
    {
     "name": "stdout",
     "output_type": "stream",
     "text": [
      "\n",
      "            Women's Underarm Large Capacity Daisy Print Ladies Bags\n",
      "           \n",
      "\n",
      "            ₦ 4,190\n",
      "           \n"
     ]
    }
   ],
   "source": [
    "# Pulling in data\n",
    "\n",
    "page = requests.get (URL, headers= headers)\n",
    "\n",
    "Soup1 = BeautifulSoup (page.content, 'html.parser')\n",
    "\n",
    "Soup2 = BeautifulSoup (Soup1.prettify(), 'html.parser')\n",
    "\n",
    "name = Soup2.find(class_= 'name').get_text()\n",
    "\n",
    "price = Soup2.find(class_= 'prc').get_text()\n",
    "\n",
    "print(name)\n",
    "print(price)\n",
    "\n"
   ]
  },
  {
   "cell_type": "code",
   "execution_count": 6,
   "id": "c06ec00d",
   "metadata": {},
   "outputs": [
    {
     "name": "stdout",
     "output_type": "stream",
     "text": [
      "Women's Underarm Large Capacity Daisy Print Ladies Bags\n",
      " 4,190\n"
     ]
    }
   ],
   "source": [
    "# Cleaning up the data a little\n",
    "\n",
    "name = name.strip()\n",
    "price = price.strip()[1:]\n",
    "print(name)\n",
    "print(price)"
   ]
  },
  {
   "cell_type": "code",
   "execution_count": 5,
   "id": "43cbdb04",
   "metadata": {},
   "outputs": [
    {
     "name": "stdout",
     "output_type": "stream",
     "text": [
      "2024-02-28\n"
     ]
    }
   ],
   "source": [
    "# Create a timestamp for output to track when data was collected\n",
    "\n",
    "today = datetime.date.today()\n",
    "print(today)"
   ]
  },
  {
   "cell_type": "code",
   "execution_count": 10,
   "id": "e5d3fc1d",
   "metadata": {},
   "outputs": [],
   "source": [
    "# Create csv and type headers and data into the file\n",
    "\n",
    "import csv\n",
    "\n",
    "header = ['Name', 'Price', 'Date']\n",
    "\n",
    "data = [name, price, today]\n",
    "\n",
    "#with open('JumiaWebScraperDataset.csv', 'w', newline='', encoding='UTF8') as f:\n",
    "    #writer = csv.writer(f)\n",
    "    #writer.writerow(header)\n",
    "    #writer.writerow(data)\n"
   ]
  },
  {
   "cell_type": "code",
   "execution_count": null,
   "id": "0580d7cd",
   "metadata": {},
   "outputs": [],
   "source": [
    "# Reading the scraped data\n",
    "import pandas as pd\n",
    "\n",
    "df = pd.read_csv(r\"C:\\Users\\HP\\JumiaWebScraperDataset.csv\")\n",
    "\n",
    "print(df)"
   ]
  },
  {
   "cell_type": "code",
   "execution_count": 14,
   "id": "773fa919",
   "metadata": {},
   "outputs": [],
   "source": [
    "# Now we are importing data into the csv\n",
    "\n",
    "with open('JumiaWebScraperDataset.csv', 'a+', newline='', encoding='UTF8') as f:\n",
    "    writer = csv.writer(f)\n",
    "    writer.writerow(data)"
   ]
  },
  {
   "cell_type": "code",
   "execution_count": 17,
   "id": "2dfc2d2f",
   "metadata": {},
   "outputs": [],
   "source": [
    "#Combine all of the above code into one function\n",
    "\n",
    "def check_price():\n",
    "    URL = 'https://www.jumia.com.ng/catalog/?q=handbags+for+ladies'\n",
    "\n",
    "    headers = {\"User-Agent\": \"Mozilla/5.0 (Windows NT 10.0; Win64; x64) AppleWebKit/537.36 (KHTML, like Gecko) Chrome/121.0.0.0 Safari/537.36 Edg/121.0.0.0\", \"Accept-Encoding\":\"gzip, deflate, br\", \"Accept\":\"text/html,application/xhtml+xml,application/xml;q=0.9,image/avif,image/webp,image/apng,*/*;q=0.8,application/signed-exchange;v=b3;q=0.7\", \"DNT\":\"1\",\"Connection\":\"close\", \"Upgrade-Insecure-Requests\":\"1\"}\n",
    "\n",
    "    page = requests.get (URL, headers= headers)\n",
    "\n",
    "    Soup1 = BeautifulSoup (page.content, 'html.parser')\n",
    "\n",
    "    Soup2 = BeautifulSoup (Soup1.prettify(), 'html.parser')\n",
    "\n",
    "    name = Soup2.find(class_= 'name').get_text()\n",
    "\n",
    "    price = Soup2.find(class_= 'prc').get_text()\n",
    "    \n",
    "    name = name.strip()\n",
    "    \n",
    "    price = price.strip()[1:]\n",
    "    \n",
    "    today = datetime.date.today()\n",
    "    \n",
    "    import csv\n",
    "\n",
    "    header = ['Name', 'Price', 'Date']\n",
    "\n",
    "    data = [name, price, today]\n",
    "    \n",
    "    with open('JumiaWebScraperDataset.csv', 'a+', newline='', encoding='UTF8') as f:\n",
    "        writer = csv.writer(f)\n",
    "        writer.writerow(data)\n",
    "        \n",
    "        if(price<3000):\n",
    "            send_mail()"
   ]
  },
  {
   "cell_type": "code",
   "execution_count": null,
   "id": "156479a9",
   "metadata": {},
   "outputs": [],
   "source": [
    "# Runs check_price after a set time and inputs data into your CSV\n",
    "\n",
    "while(True):\n",
    "    check_price()\n",
    "    time.sleep(86400)"
   ]
  },
  {
   "cell_type": "code",
   "execution_count": null,
   "id": "635ab9b6",
   "metadata": {},
   "outputs": [],
   "source": [
    "import pandas as pd\n",
    "\n",
    "df = pd.read_csv(r\"C:\\Users\\HP\\JumiaWebScraperDataset.csv\")\n",
    "\n",
    "print(df)"
   ]
  },
  {
   "cell_type": "code",
   "execution_count": null,
   "id": "1f085a67",
   "metadata": {},
   "outputs": [],
   "source": [
    "# Sending yourself an email when a price hits below a certain level\n",
    "\n",
    "def send_mail():\n",
    "    server = smtplib.SMTP_SSL('smtp.gmail.com',465)\n",
    "    server.ehlo()\n",
    "    #server.starttls()\n",
    "    server.ehlo()\n",
    "    server.login('sandra4christ@gmail.com','xxxxxxxxxxxxxx')\n",
    "    \n",
    "    subject = \"The bag you want is below 3000! Now is your chance to buy!\"\n",
    "    body = \"Sandra, This is the moment we have been waiting for. Now is your chance to pick up the bag of your dreams. Don't mess it up! Link here: https://www.jumia.com.ng/fashion-womens-underarm-large-capacity-daisy-print-ladies-bags-79473557.html\n",
    "   \n",
    "    msg = f\"Subject: {subject}\\n\\n{body}\"\n",
    "    \n",
    "    server.sendmail(\n",
    "        'sandra4christ@gmail.com',\n",
    "        msg\n",
    "     \n",
    "    )"
   ]
  }
 ],
 "metadata": {
  "kernelspec": {
   "display_name": "Python 3 (ipykernel)",
   "language": "python",
   "name": "python3"
  },
  "language_info": {
   "codemirror_mode": {
    "name": "ipython",
    "version": 3
   },
   "file_extension": ".py",
   "mimetype": "text/x-python",
   "name": "python",
   "nbconvert_exporter": "python",
   "pygments_lexer": "ipython3",
   "version": "3.11.3"
  }
 },
 "nbformat": 4,
 "nbformat_minor": 5
}
