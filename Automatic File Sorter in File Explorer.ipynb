{
 "cells": [
  {
   "cell_type": "code",
   "execution_count": 35,
   "id": "8119ac87",
   "metadata": {},
   "outputs": [],
   "source": [
    "import os, shutil"
   ]
  },
  {
   "cell_type": "markdown",
   "id": "e7030730",
   "metadata": {},
   "source": [
    "# Getting the path from my laptop. It contained three files; png, txt and csv"
   ]
  },
  {
   "cell_type": "code",
   "execution_count": 36,
   "id": "8fb9d7e5",
   "metadata": {},
   "outputs": [],
   "source": [
    "path = r\"C:/Users/HP/Documents/explore/\""
   ]
  },
  {
   "cell_type": "code",
   "execution_count": 64,
   "id": "690b25a4",
   "metadata": {},
   "outputs": [],
   "source": [
    "file_name= os.listdir(path)"
   ]
  },
  {
   "cell_type": "markdown",
   "id": "9e6a7e07",
   "metadata": {},
   "source": [
    "# Confirming if folder paths exist for the to-be created files and going ahead to create the 3 paths for the files as they don't exist"
   ]
  },
  {
   "cell_type": "code",
   "execution_count": 115,
   "id": "c4dba73e",
   "metadata": {},
   "outputs": [
    {
     "name": "stdout",
     "output_type": "stream",
     "text": [
      "C:/Users/HP/Documents/explore/png files\n",
      "C:/Users/HP/Documents/explore/txt files\n",
      "C:/Users/HP/Documents/explore/csv files\n"
     ]
    }
   ],
   "source": [
    "folder_names = ['png files','txt files','csv files']\n",
    "\n",
    "for loop in range (0,3):\n",
    "    if not os.path.exists(path + folder_names[loop]):\n",
    "        print (path + folder_names[loop])\n",
    "        os.makedirs(path + folder_names[loop])"
   ]
  },
  {
   "cell_type": "markdown",
   "id": "a8be9336",
   "metadata": {},
   "source": [
    "# Confirming the files are not in the newly created path and then moving the files to the new path"
   ]
  },
  {
   "cell_type": "code",
   "execution_count": 187,
   "id": "75bb246d",
   "metadata": {},
   "outputs": [],
   "source": [
    "for file in file_name:\n",
    "    if \".csv\" in file and not os.path.exists(path + \"csv files/\" + file):\n",
    "        shutil.move(path + file, path + \"csv files/\" + file)\n",
    "    elif \".txt\" in file and not os.path.exists(path + \"txt files/\" + file):\n",
    "        shutil.move(path + file, path + \"txt files/\" + file)\n",
    "    elif \".PNG\" in file and not os.path.exists(path + \"png files/\" + file):\n",
    "        shutil.move(path + file, path + \"png files/\" + file)"
   ]
  },
  {
   "cell_type": "code",
   "execution_count": null,
   "id": "9bf86d66",
   "metadata": {},
   "outputs": [],
   "source": []
  },
  {
   "cell_type": "code",
   "execution_count": null,
   "id": "5f8cd65f",
   "metadata": {},
   "outputs": [],
   "source": []
  }
 ],
 "metadata": {
  "kernelspec": {
   "display_name": "Python 3 (ipykernel)",
   "language": "python",
   "name": "python3"
  },
  "language_info": {
   "codemirror_mode": {
    "name": "ipython",
    "version": 3
   },
   "file_extension": ".py",
   "mimetype": "text/x-python",
   "name": "python",
   "nbconvert_exporter": "python",
   "pygments_lexer": "ipython3",
   "version": "3.11.3"
  }
 },
 "nbformat": 4,
 "nbformat_minor": 5
}
