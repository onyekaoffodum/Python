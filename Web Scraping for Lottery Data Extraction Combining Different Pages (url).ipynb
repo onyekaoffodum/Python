{
 "cells": [
  {
   "cell_type": "code",
   "execution_count": 8,
   "id": "ae4e8193",
   "metadata": {},
   "outputs": [
    {
     "name": "stdout",
     "output_type": "stream",
     "text": [
      "Combined DataFrame exported to C:/Users/HP/Documents/Data Analytics Projects/lottery3.xlsx\n"
     ]
    }
   ],
   "source": [
    "from bs4 import BeautifulSoup\n",
    "import requests\n",
    "import datetime\n",
    "import pandas as pd\n",
    "\n",
    "def scrape_data_from_url(URL):\n",
    "    headers = {\n",
    "        \"User-Agent\": \"Mozilla/5.0 (Windows NT 10.0; Win64; x64) AppleWebKit/537.36 (KHTML, like Gecko) Chrome/121.0.0.0 Safari/537.36 Edg/121.0.0.0\",\n",
    "        \"Accept-Encoding\": \"gzip, deflate, br\",\n",
    "        \"Accept\": \"text/html,application/xhtml+xml,application/xml;q=0.9,image/avif,image/webp,image/apng,*/*;q=0.8,application/signed-exchange;v=b3;q=0.7\",\n",
    "        \"DNT\": \"1\",\n",
    "        \"Connection\": \"close\",\n",
    "        \"Upgrade-Insecure-Requests\": \"1\"\n",
    "    }\n",
    "\n",
    "    page = requests.get(URL, headers=headers)\n",
    "    soup = BeautifulSoup(page.content, 'html.parser')\n",
    "\n",
    "    # Use a set to store unique sets based on both date and numbers\n",
    "    unique_sets_with_dates = set()\n",
    "\n",
    "    date_elements = soup.find_all('h2')\n",
    "\n",
    "    for date_element in date_elements:\n",
    "        date_text = date_element.get_text(strip=True)\n",
    "        date = datetime.datetime.strptime(date_text, '%a, %b %d, %Y').strftime('%Y-%m-%d')  # Convert to a common date format\n",
    "\n",
    "        # Find the associated numbers for each date\n",
    "        number_set_with_date = date_element.find_next(class_='game-balls')\n",
    "        numbers = tuple([li.get_text(strip=True) for li in number_set_with_date.find_all('li')])\n",
    "\n",
    "        # Add the tuple (date, numbers) to the set\n",
    "        unique_sets_with_dates.add((date, numbers))\n",
    "\n",
    "    # Create a DataFrame from the unique sets\n",
    "    df = pd.DataFrame(list(unique_sets_with_dates), columns=['Date', 'Game_balls'])\n",
    "\n",
    "    # Sort the DataFrame in descending order based on the \"Date\" column\n",
    "    df = df.sort_values(by='Date', ascending=False)\n",
    "\n",
    "    # Reset the index sequentially\n",
    "    df = df.reset_index(drop=True)\n",
    "\n",
    "    # Split the 'Game_balls' column into separate columns\n",
    "    df[['Number_1', 'Number_2', 'Number_3', 'Number_4', 'Number_5', 'Number_6', 'Number_7', 'Number_8', 'Number_9', 'Number_10', 'Number_11', 'Number_12', 'Number_13', 'Number_14', 'Number_15', 'Number_16', 'Number_17', 'Number_18', 'Number_19', 'Number_20']] = pd.DataFrame(df['Game_balls'].tolist(), index=df.index)\n",
    "\n",
    "    # Drop the original 'Game_balls' column\n",
    "    df = df.drop(columns=['Game_balls'])\n",
    "\n",
    "    return df\n",
    "\n",
    "# Example usage:\n",
    "URL1 = 'https://www.walottery.com/winningnumbers/PastDrawings.aspx?gamename=dailykeno&unittype=year&unitcount=2022'\n",
    "URL2 = 'https://www.walottery.com/winningnumbers/PastDrawings.aspx?gamename=dailykeno&unittype=year&unitcount=2023'\n",
    "URL3 = 'https://www.walottery.com/winningnumbers/PastDrawings.aspx?gamename=dailykeno&unittype=year&unitcount=2024'\n",
    "\n",
    "df1 = scrape_data_from_url(URL1)\n",
    "df2 = scrape_data_from_url(URL2)\n",
    "df3 = scrape_data_from_url(URL3)\n",
    "\n",
    "# Combine dataframes if needed\n",
    "combined_df = pd.concat([df1, df2, df3], ignore_index=True)\n",
    "\n",
    "#print(combined_df.head())\n",
    "# Export the combined DataFrame to an Excel file\n",
    "excel_filename = 'C:/Users/HP/Documents/Data Analytics Projects/lottery3.xlsx'\n",
    "\n",
    "combined_df.to_excel(excel_filename, index=False)\n",
    "\n",
    "print(f\"Combined DataFrame exported to {excel_filename}\")\n"
   ]
  },
  {
   "cell_type": "code",
   "execution_count": null,
   "id": "7c4b341f",
   "metadata": {},
   "outputs": [],
   "source": []
  }
 ],
 "metadata": {
  "kernelspec": {
   "display_name": "Python 3 (ipykernel)",
   "language": "python",
   "name": "python3"
  },
  "language_info": {
   "codemirror_mode": {
    "name": "ipython",
    "version": 3
   },
   "file_extension": ".py",
   "mimetype": "text/x-python",
   "name": "python",
   "nbconvert_exporter": "python",
   "pygments_lexer": "ipython3",
   "version": "3.11.3"
  }
 },
 "nbformat": 4,
 "nbformat_minor": 5
}
