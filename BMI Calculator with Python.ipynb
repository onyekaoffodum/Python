{
 "cells": [
  {
   "cell_type": "markdown",
   "id": "aec58d7a",
   "metadata": {},
   "source": [
    "BMI Calculator\n",
    "\n",
    "https://www.cdc.gov/widgets/BmiForAdults/BMI/iframe.html#\n",
    "\n",
    "https://www.cdc.gov/healthyweight/assessing/bmi/adult_bmi/index.html"
   ]
  },
  {
   "cell_type": "code",
   "execution_count": null,
   "id": "96cbb0ad",
   "metadata": {},
   "outputs": [],
   "source": [
    "#Calculate your BMI\n",
    "\n",
    "\n",
    "name = input (\"Enter your name: \")\n",
    "\n",
    "weight = int(input (\"Enter your weight in pounds: \"))\n",
    "\n",
    "height = int(input (\"Enter your height in inches: \"))\n",
    "\n",
    "BMI = (weight * 703)/ (height * height)\n",
    "\n",
    "print (BMI)\n",
    "                \n",
    "if BMI>0:\n",
    "    if(BMI<18.5):\n",
    "        print (name +\", you are healthy weight.\")\n",
    "    elif (BMI<=29.9):\n",
    "            print (name +\", you are over weight.\")\n",
    "    elif (BMI>=30):\n",
    "            print (name +\", you are obese. You need to exercise more and reduce sendentary activities\")\n",
    "    else:\n",
    "            print(\"Enter valid inputs\")           \n",
    "\n"
   ]
  },
  {
   "cell_type": "code",
   "execution_count": null,
   "id": "5d330815",
   "metadata": {},
   "outputs": [],
   "source": []
  },
  {
   "cell_type": "code",
   "execution_count": null,
   "id": "ae934ca0",
   "metadata": {},
   "outputs": [],
   "source": []
  }
 ],
 "metadata": {
  "kernelspec": {
   "display_name": "Python 3 (ipykernel)",
   "language": "python",
   "name": "python3"
  },
  "language_info": {
   "codemirror_mode": {
    "name": "ipython",
    "version": 3
   },
   "file_extension": ".py",
   "mimetype": "text/x-python",
   "name": "python",
   "nbconvert_exporter": "python",
   "pygments_lexer": "ipython3",
   "version": "3.11.3"
  }
 },
 "nbformat": 4,
 "nbformat_minor": 5
}
