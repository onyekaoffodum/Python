{
 "cells": [
  {
   "cell_type": "code",
   "execution_count": 1,
   "id": "fada45ef",
   "metadata": {},
   "outputs": [
    {
     "name": "stdout",
     "output_type": "stream",
     "text": [
      "Scraping page 1...\n",
      "Scraping page 2...\n",
      "Scraping page 3...\n",
      "Scraping page 4...\n",
      "Scraping page 5...\n",
      "Saved 150 leads to yellowpages_leads.csv\n"
     ]
    }
   ],
   "source": [
    "import requests\n",
    "from bs4 import BeautifulSoup\n",
    "import csv\n",
    "\n",
    "def scrape_yellowpages(base_url, max_pages=5):\n",
    "    leads = []\n",
    "    for page in range(1, max_pages + 1):\n",
    "        print(f\"Scraping page {page}...\")\n",
    "        url = f\"{base_url}?page={page}\"  # Adjust pagination parameter as needed\n",
    "        response = requests.get(url)\n",
    "\n",
    "        if response.status_code != 200:\n",
    "            print(\"Failed to retrieve the page.\")\n",
    "            break\n",
    "\n",
    "        soup = BeautifulSoup(response.text, 'html.parser')\n",
    "\n",
    "        # Customize these selectors based on the website structure\n",
    "        businesses = soup.select('.result')  # Replace with actual class/element\n",
    "        for business in businesses:\n",
    "            name = business.select_one('.business-name').get_text(strip=True) if business.select_one('.business-name') else \"N/A\"\n",
    "            address = business.select_one('.street-address').get_text(strip=True) if business.select_one('.street-address') else \"N/A\"\n",
    "            phone = business.select_one('.phones').get_text(strip=True) if business.select_one('.phones') else \"N/A\"\n",
    "\n",
    "            lead = {\n",
    "                'name': name,\n",
    "                'address': address,\n",
    "                'phone': phone\n",
    "            }\n",
    "            leads.append(lead)\n",
    "\n",
    "    return leads\n",
    "\n",
    "if __name__ == \"__main__\":\n",
    "    yellowpages_url = \"https://www.yellowpages.com/glendale-ca/restaurants\"\n",
    "    leads = scrape_yellowpages(yellowpages_url, max_pages=5)\n",
    "\n",
    "    # Save leads to a CSV file\n",
    "    with open(\"yellowpages_leads.csv\", \"w\", newline=\"\", encoding=\"utf-8\") as csvfile:\n",
    "        fieldnames = [\"name\", \"address\", \"phone\"]\n",
    "        writer = csv.DictWriter(csvfile, fieldnames=fieldnames)\n",
    "        writer.writeheader()\n",
    "        writer.writerows(leads)\n",
    "\n",
    "    print(f\"Saved {len(leads)} leads to yellowpages_leads.csv\")\n"
   ]
  },
  {
   "cell_type": "code",
   "execution_count": null,
   "id": "bd101f95",
   "metadata": {},
   "outputs": [],
   "source": []
  }
 ],
 "metadata": {
  "kernelspec": {
   "display_name": "Python 3 (ipykernel)",
   "language": "python",
   "name": "python3"
  },
  "language_info": {
   "codemirror_mode": {
    "name": "ipython",
    "version": 3
   },
   "file_extension": ".py",
   "mimetype": "text/x-python",
   "name": "python",
   "nbconvert_exporter": "python",
   "pygments_lexer": "ipython3",
   "version": "3.11.3"
  }
 },
 "nbformat": 4,
 "nbformat_minor": 5
}
